{
 "cells": [
  {
   "cell_type": "markdown",
   "metadata": {},
   "source": [
    "\n",
    "# NLP Essentials Project"
   ]
  },
  {
   "cell_type": "markdown",
   "metadata": {},
   "source": [
    "# Sentiment Analysis Online Movie Reviews\n",
    "\n",
    "### Project Scenario\n",
    "\n",
    "In a recent [market research](https://newsroom.ibm.com/IBMs-Global-AI-Adoption-Index-2021?lnk=ushpv18ai3) by IBM, almost one-third of IT professionals surveyed globally say their business is using Artificial Intelligence (AI). The survey reported almost half of businesses today are now using applications powered by natural language processing (NLP).\n",
    "\n",
    "NLP, specifically 'Sentiment Analysis', can provide a key business advantage by abstracting from unstructured text data the negative or positive attitude of the writer/author. This crucuial insight can help turn web data into market intelligence for the business. \n",
    "\n",
    "A request has been received from the web development department to add 'Sentiment Analysis' feature to a movie reviews page. \n",
    "\n",
    "The insights from the sentiment analysis will be used to promote more popular movies.  \n",
    "\n",
    "In this project, you are tasked to create a prototype NLP project that is capable of 'Sentiment Analysis' from movie reviews. \n",
    "\n",
    "---"
   ]
  },
  {
   "cell_type": "markdown",
   "metadata": {},
   "source": [
    "In this assignment, you will be working **individually** on the 'Sentiment Analysis' project. \n",
    "\n",
    "Complete ALL THE TASKS ( From 1 to 7). You may refer to online documentation (e.g. keras, pandas, etc) for help on syntax. \n",
    "\n",
    "`No copying of codes wholesale is allowed.`\n",
    "\n",
    "Use a random_state = 42 where appropriate.\n",
    "\n",
    "Broadly, this project will require the following steps:\n",
    "\n",
    "1. Importing Various Modules.\n",
    "1.Problem scoping.\n",
    ">1.1. Defining problem statement using 4Ws (Who, What, Where, Why) problem canvas from the project scenario.\n",
    "\n",
    "2.Data acquisition and Data exploration.\n",
    ">2.1.Importing various modules.\n",
    "\n",
    ">2.2.Preparing the data.\n",
    "\n",
    ">>2.2.1. Preprocess Text.\n",
    "\n",
    ">>2.2.2. Perform image pre-processing and data augmentation.\n",
    "\n",
    ">>2.2.3.Split it into train, validate, and test datasets.\n",
    "\n",
    ">>2.2.4. Perform Feature Extraction Using TF-IDF.\n",
    "\n",
    "3.Modelling.\n",
    "\n",
    ">3.1. Create the model - Build a model based on Build a model based on Neural Network.\n",
    "\n",
    "\n",
    "\n"
   ]
  },
  {
   "cell_type": "markdown",
   "metadata": {},
   "source": [
    "## Task 2: Data acquisition and Data exploration.\n",
    "\n",
    "Collect an additional 30 samples of positive reviews and 30 samples of negative reviews from this website:\n",
    "https://www.rottentomatoes.com/browse/movies_in_theaters/sort:newest?page=1\n",
    "\n",
    "\n",
    "Add these to the given dataset respectively. \n",
    "\n",
    "The final dataset should have 1000 positive reviews and 1000 negative reviews. \n"
   ]
  },
  {
   "cell_type": "code",
   "execution_count": 1,
   "metadata": {},
   "outputs": [],
   "source": [
    "import pandas as pd\n",
    "import numpy as np\n",
    "import string\n",
    "import re\n",
    "import nltk\n",
    "import os\n",
    "from nltk.tokenize import word_tokenize\n",
    "from nltk.corpus import stopwords\n",
    "from nltk.stem import WordNetLemmatizer\n",
    "from sklearn.model_selection import train_test_split\n",
    "import tensorflow as tf\n",
    "from tensorflow.keras.models import Sequential\n",
    "from tensorflow.keras.layers import  Dense\n",
    "from tensorflow.keras.preprocessing.text import Tokenizer\n",
    "from tensorflow.keras.preprocessing.sequence import pad_sequences\n",
    "import matplotlib.pyplot as plt\n",
    "from sklearn.feature_extraction.text import TfidfVectorizer\n",
    "from sklearn.metrics import confusion_matrix\n",
    "from sklearn.metrics import classification_report\n",
    "import seaborn as sns\n",
    "\n",
    "\n",
    "nltk_stopwords = stopwords.words('english')"
   ]
  },
  {
   "cell_type": "code",
   "execution_count": 3,
   "metadata": {},
   "outputs": [
    {
     "data": {
      "text/html": [
       "<div>\n",
       "<style scoped>\n",
       "    .dataframe tbody tr th:only-of-type {\n",
       "        vertical-align: middle;\n",
       "    }\n",
       "\n",
       "    .dataframe tbody tr th {\n",
       "        vertical-align: top;\n",
       "    }\n",
       "\n",
       "    .dataframe thead th {\n",
       "        text-align: right;\n",
       "    }\n",
       "</style>\n",
       "<table border=\"1\" class=\"dataframe\">\n",
       "  <thead>\n",
       "    <tr style=\"text-align: right;\">\n",
       "      <th></th>\n",
       "      <th>review</th>\n",
       "      <th>sentiment</th>\n",
       "    </tr>\n",
       "  </thead>\n",
       "  <tbody>\n",
       "    <tr>\n",
       "      <th>0</th>\n",
       "      <td>Focus Reset\\nHome\\n\\n\\n\\nGuides\\nInteractive M...</td>\n",
       "      <td>1</td>\n",
       "    </tr>\n",
       "    <tr>\n",
       "      <th>1</th>\n",
       "      <td>\\nTV\\nTHE BOYS (S1E7+8) “The Self Preservation...</td>\n",
       "      <td>1</td>\n",
       "    </tr>\n",
       "    <tr>\n",
       "      <th>2</th>\n",
       "      <td>Skip to main content\\n\\nflag of US\\nTRENDING\\n...</td>\n",
       "      <td>1</td>\n",
       "    </tr>\n",
       "    <tr>\n",
       "      <th>3</th>\n",
       "      <td>Skip to Content\\nSearch\\nMama's Geeky\\n\\nThe B...</td>\n",
       "      <td>1</td>\n",
       "    </tr>\n",
       "    <tr>\n",
       "      <th>4</th>\n",
       "      <td>Skip to content\\nLyles Movie Files\\nthe boys p...</td>\n",
       "      <td>1</td>\n",
       "    </tr>\n",
       "    <tr>\n",
       "      <th>...</th>\n",
       "      <td>...</td>\n",
       "      <td>...</td>\n",
       "    </tr>\n",
       "    <tr>\n",
       "      <th>2055</th>\n",
       "      <td>if anything , \" stigmata \" should be taken as ...</td>\n",
       "      <td>0</td>\n",
       "    </tr>\n",
       "    <tr>\n",
       "      <th>2056</th>\n",
       "      <td>john boorman's \" zardoz \" is a goofy cinematic...</td>\n",
       "      <td>0</td>\n",
       "    </tr>\n",
       "    <tr>\n",
       "      <th>2057</th>\n",
       "      <td>the kids in the hall are an acquired taste . \\...</td>\n",
       "      <td>0</td>\n",
       "    </tr>\n",
       "    <tr>\n",
       "      <th>2058</th>\n",
       "      <td>there was a time when john carpenter was a gre...</td>\n",
       "      <td>0</td>\n",
       "    </tr>\n",
       "    <tr>\n",
       "      <th>2059</th>\n",
       "      <td>two party guys bob their heads to haddaway's d...</td>\n",
       "      <td>0</td>\n",
       "    </tr>\n",
       "  </tbody>\n",
       "</table>\n",
       "<p>2060 rows × 2 columns</p>\n",
       "</div>"
      ],
      "text/plain": [
       "                                                 review sentiment\n",
       "0     Focus Reset\\nHome\\n\\n\\n\\nGuides\\nInteractive M...         1\n",
       "1     \\nTV\\nTHE BOYS (S1E7+8) “The Self Preservation...         1\n",
       "2     Skip to main content\\n\\nflag of US\\nTRENDING\\n...         1\n",
       "3     Skip to Content\\nSearch\\nMama's Geeky\\n\\nThe B...         1\n",
       "4     Skip to content\\nLyles Movie Files\\nthe boys p...         1\n",
       "...                                                 ...       ...\n",
       "2055  if anything , \" stigmata \" should be taken as ...         0\n",
       "2056  john boorman's \" zardoz \" is a goofy cinematic...         0\n",
       "2057  the kids in the hall are an acquired taste . \\...         0\n",
       "2058  there was a time when john carpenter was a gre...         0\n",
       "2059  two party guys bob their heads to haddaway's d...         0\n",
       "\n",
       "[2060 rows x 2 columns]"
      ]
     },
     "execution_count": 3,
     "metadata": {},
     "output_type": "execute_result"
    }
   ],
   "source": [
    "pos_list = []\n",
    "neg_list = []\n",
    "\n",
    "pos_folder = './data/pos'\n",
    "neg_folder = './data/neg'\n",
    "\n",
    "# Load text from the Positive Reviews folder\n",
    "for filename in os.listdir(pos_folder):\n",
    "    if filename.endswith('.txt'):\n",
    "        text_path = os.path.join(pos_folder, filename)\n",
    "        with open(text_path, 'r', encoding='utf-8') as file:\n",
    "            text = file.read()\n",
    "            pos_list.append([text, '1'])\n",
    "\n",
    "# Load text from the Negative Reviews folder\n",
    "for filename in os.listdir(neg_folder):\n",
    "    if filename.endswith('.txt'):\n",
    "        text_path = os.path.join(neg_folder, filename)\n",
    "        with open(text_path, 'r', encoding='utf-8') as file:\n",
    "            text = file.read()\n",
    "            neg_list.append([text, '0'])\n",
    "\n",
    "pos_list = pd.DataFrame(pos_list, columns=['review', 'sentiment']) \n",
    "neg_list = pd.DataFrame(neg_list, columns=['review', 'sentiment'])\n",
    "\n",
    "\n",
    "\n",
    "\n",
    "df = pd.concat([pos_list,neg_list],  ignore_index=True)\n",
    "\n",
    "df"
   ]
  },
  {
   "cell_type": "code",
   "execution_count": 4,
   "metadata": {},
   "outputs": [
    {
     "name": "stdout",
     "output_type": "stream",
     "text": [
      "Number of positive reviews: 1030\n",
      "Number of negative reviews: 1030\n",
      "First positive review:\n",
      "                                               review sentiment\n",
      "0  Focus Reset\\nHome\\n\\n\\n\\nGuides\\nInteractive M...         1\n",
      "First negative review:\n",
      "                                               review sentiment\n",
      "0  \\nHome  Blog  Popcorn Parent Movie Reviews\\nPo...         0\n"
     ]
    }
   ],
   "source": [
    "# Print the number of reviews in each list\n",
    "print(\"Number of positive reviews:\", len(pos_list))\n",
    "print(\"Number of negative reviews:\", len(neg_list))\n",
    "\n",
    "# Print the first positive and negative reviews\n",
    "if len(pos_list) > 0:\n",
    "    print(\"First positive review:\\n\", pos_list.head(1))\n",
    "\n",
    "if len(neg_list) > 0:\n",
    "    print(\"First negative review:\\n\", neg_list.head(1))"
   ]
  },
  {
   "cell_type": "markdown",
   "metadata": {},
   "source": [
    "## Task 2.1: Importing various modules - Data Cleansing\n",
    "\n",
    "Import the relevant NLTK libraries. "
   ]
  },
  {
   "cell_type": "code",
   "execution_count": 5,
   "metadata": {},
   "outputs": [
    {
     "name": "stderr",
     "output_type": "stream",
     "text": [
      "[nltk_data] Downloading package stopwords to\n",
      "[nltk_data]     C:\\Users\\gohji\\AppData\\Roaming\\nltk_data...\n",
      "[nltk_data]   Package stopwords is already up-to-date!\n",
      "[nltk_data] Downloading package punkt to\n",
      "[nltk_data]     C:\\Users\\gohji\\AppData\\Roaming\\nltk_data...\n",
      "[nltk_data]   Package punkt is already up-to-date!\n",
      "[nltk_data] Downloading package wordnet to\n",
      "[nltk_data]     C:\\Users\\gohji\\AppData\\Roaming\\nltk_data...\n",
      "[nltk_data]   Package wordnet is already up-to-date!\n"
     ]
    },
    {
     "data": {
      "text/plain": [
       "True"
      ]
     },
     "execution_count": 5,
     "metadata": {},
     "output_type": "execute_result"
    }
   ],
   "source": [
    "\n",
    "from nltk.corpus import stopwords\n",
    "from nltk.tokenize import word_tokenize, sent_tokenize\n",
    "from nltk.stem import PorterStemmer\n",
    "from nltk.probability import FreqDist\n",
    "\n",
    "# Download NLTK resources if needed\n",
    "nltk.download('stopwords')\n",
    "nltk.download('punkt')\n",
    "nltk.download('wordnet')\n"
   ]
  },
  {
   "cell_type": "markdown",
   "metadata": {},
   "source": [
    "### Task 2.2: Data exploration\n",
    "\n",
    "Use methods and ideas that you can think of to explore the data.\n",
    "\n",
    "1. Showcase some interesting information about this data.\n",
    "2. Showcase any statistics about this data that can help you in your cleaning.\n",
    "\n",
    "$\\color{cyan}{\\text{Bonus marks will be award for interesting insights into the data}}$"
   ]
  },
  {
   "cell_type": "code",
   "execution_count": 6,
   "metadata": {},
   "outputs": [
    {
     "name": "stdout",
     "output_type": "stream",
     "text": [
      "Missing values in each column:\n",
      " review       0\n",
      "sentiment    0\n",
      "dtype: int64\n",
      "\n",
      "Basic Statistics:\n",
      "Number of reviews: 2060\n",
      "Number of unique sentiments: 2\n",
      "Distribution of sentiments:\n",
      " sentiment\n",
      "1    1030\n",
      "0    1030\n",
      "Name: count, dtype: int64\n"
     ]
    },
    {
     "data": {
      "image/png": "[encoded data removed]",
      "text/plain": [
       "<Figure size 1000x600 with 1 Axes>"
      ]
     },
     "metadata": {},
     "output_type": "display_data"
    },
    {
     "name": "stderr",
     "output_type": "stream",
     "text": [
      "c:\\Users\\gohji\\anaconda3\\envs\\nlpe\\lib\\site-packages\\seaborn\\_oldcore.py:1498: FutureWarning: is_categorical_dtype is deprecated and will be removed in a future version. Use isinstance(dtype, CategoricalDtype) instead\n",
      "  if pd.api.types.is_categorical_dtype(vector):\n",
      "c:\\Users\\gohji\\anaconda3\\envs\\nlpe\\lib\\site-packages\\seaborn\\_oldcore.py:1498: FutureWarning: is_categorical_dtype is deprecated and will be removed in a future version. Use isinstance(dtype, CategoricalDtype) instead\n",
      "  if pd.api.types.is_categorical_dtype(vector):\n",
      "c:\\Users\\gohji\\anaconda3\\envs\\nlpe\\lib\\site-packages\\seaborn\\_oldcore.py:1498: FutureWarning: is_categorical_dtype is deprecated and will be removed in a future version. Use isinstance(dtype, CategoricalDtype) instead\n",
      "  if pd.api.types.is_categorical_dtype(vector):\n"
     ]
    },
    {
     "data": {
      "image/png": "[encoded data removed]",
      "text/plain": [
       "<Figure size 600x400 with 1 Axes>"
      ]
     },
     "metadata": {},
     "output_type": "display_data"
    }
   ],
   "source": [
    "# Data Exploration\n",
    "\n",
    "# Check for missing values\n",
    "print(\"Missing values in each column:\\n\", df.isnull().sum())\n",
    "\n",
    "# Basic Statistics\n",
    "print(\"\\nBasic Statistics:\")\n",
    "print(\"Number of reviews:\", len(df))\n",
    "print(\"Number of unique sentiments:\", df['sentiment'].nunique())\n",
    "print(\"Distribution of sentiments:\\n\", df['sentiment'].value_counts())\n",
    "\n",
    "# Tokenization and Text Length Analysis\n",
    "df['tokenized_text'] = df['review'].apply(word_tokenize)\n",
    "df['text_length'] = df['tokenized_text'].apply(len)\n",
    "\n",
    "# Visualize Text Length Distribution\n",
    "plt.figure(figsize=(10, 6))\n",
    "plt.hist(df['text_length'], bins=50, color='skyblue', edgecolor='black')\n",
    "plt.title('Text Length Distribution')\n",
    "plt.xlabel('Text Length')\n",
    "plt.ylabel('Frequency')\n",
    "plt.show()\n",
    "\n",
    "# Word Frequency Analysis\n",
    "all_words = [word for tokens in df['tokenized_text'] for word in tokens]\n",
    "fdist = FreqDist(all_words)\n",
    "\n",
    "# Remove stopwords and perform word frequency analysis again\n",
    "stop_words = set(stopwords.words('english'))\n",
    "filtered_words = [word for word in all_words if word.lower() not in stop_words]\n",
    "fdist_filtered = FreqDist(filtered_words)\n",
    "\n",
    "# Sentiment Distribution Visualization\n",
    "plt.figure(figsize=(6, 4))\n",
    "sns.countplot(x='sentiment', data=df)\n",
    "plt.title('Sentiment Distribution')\n",
    "plt.xlabel('Sentiment')\n",
    "plt.ylabel('Count')\n",
    "plt.show()\n"
   ]
  },
  {
   "cell_type": "markdown",
   "metadata": {},
   "source": [
    "### Task 2.2.1: Importing various modules - Add More Stops Words To NLTK\n",
    "\n",
    "Add the following to stopwords:\n",
    "1. 'www'\n",
    "2. '.com'\n",
    "3. 'http'"
   ]
  },
  {
   "cell_type": "code",
   "execution_count": 7,
   "metadata": {},
   "outputs": [
    {
     "name": "stdout",
     "output_type": "stream",
     "text": [
      "Updated Stopwords List:\n",
      "['i', 'me', 'my', 'myself', 'we', 'our', 'ours', 'ourselves', 'you', \"you're\", \"you've\", \"you'll\", \"you'd\", 'your', 'yours', 'yourself', 'yourselves', 'he', 'him', 'his', 'himself', 'she', \"she's\", 'her', 'hers', 'herself', 'it', \"it's\", 'its', 'itself', 'they', 'them', 'their', 'theirs', 'themselves', 'what', 'which', 'who', 'whom', 'this', 'that', \"that'll\", 'these', 'those', 'am', 'is', 'are', 'was', 'were', 'be', 'been', 'being', 'have', 'has', 'had', 'having', 'do', 'does', 'did', 'doing', 'a', 'an', 'the', 'and', 'but', 'if', 'or', 'because', 'as', 'until', 'while', 'of', 'at', 'by', 'for', 'with', 'about', 'against', 'between', 'into', 'through', 'during', 'before', 'after', 'above', 'below', 'to', 'from', 'up', 'down', 'in', 'out', 'on', 'off', 'over', 'under', 'again', 'further', 'then', 'once', 'here', 'there', 'when', 'where', 'why', 'how', 'all', 'any', 'both', 'each', 'few', 'more', 'most', 'other', 'some', 'such', 'no', 'nor', 'not', 'only', 'own', 'same', 'so', 'than', 'too', 'very', 's', 't', 'can', 'will', 'just', 'don', \"don't\", 'should', \"should've\", 'now', 'd', 'll', 'm', 'o', 're', 've', 'y', 'ain', 'aren', \"aren't\", 'couldn', \"couldn't\", 'didn', \"didn't\", 'doesn', \"doesn't\", 'hadn', \"hadn't\", 'hasn', \"hasn't\", 'haven', \"haven't\", 'isn', \"isn't\", 'ma', 'mightn', \"mightn't\", 'mustn', \"mustn't\", 'needn', \"needn't\", 'shan', \"shan't\", 'shouldn', \"shouldn't\", 'wasn', \"wasn't\", 'weren', \"weren't\", 'won', \"won't\", 'wouldn', \"wouldn't\", 'www', '.com', 'http']\n"
     ]
    }
   ],
   "source": [
    "import nltk\n",
    "from nltk.corpus import stopwords\n",
    "\n",
    "custom_stopwords = ['www', '.com', 'http']\n",
    "all_stopwords = list(stopwords.words('english')) + custom_stopwords\n",
    "\n",
    "\n",
    "# Update NLTK stopwords with the combined list\n",
    "nltk.corpus.stopwords.words = lambda lang: all_stopwords if lang == 'english' else []\n",
    "\n",
    "# Check the updated stopwords\n",
    "print(\"Updated Stopwords List:\")\n",
    "print(all_stopwords)\n"
   ]
  },
  {
   "cell_type": "markdown",
   "metadata": {},
   "source": [
    "### Task 2.2.2 : Process Text - Tokenize, Remove Punctuation, Lemmatize \n",
    "\n",
    "Complete the following 3 functions.\n",
    "\n",
    "Feel free to add additional cleaning functions and improve `process_text()` if you like to.\n",
    "\n",
    "Feel free to change the way the functions are written as well if you like to."
   ]
  },
  {
   "cell_type": "code",
   "execution_count": 8,
   "metadata": {},
   "outputs": [],
   "source": [
    "def clean_text(input_text):\n",
    "    output_text = str(input_text).translate(str.maketrans('','',string.punctuation)) # remove punct\n",
    "    output_text = output_text.lower() # lower text\n",
    "    output_text = re.sub(r'\\d+', '', output_text) # or use the \\W method to remove numbers/non words\n",
    "    return output_text\n",
    "\n",
    "def lemm_text(input_text): # lemmatizer code / or use stemmer\n",
    "    lemmatizer = WordNetLemmatizer()\n",
    "    words = word_tokenize(input_text)\n",
    "    words = [word for word in words if word.lower() not in nltk_stopwords] # stopword removal\n",
    "    lemmatized_words = [lemmatizer.lemmatize(word) for word in words]\n",
    "    lemma_output = ' '.join(lemmatized_words)\n",
    "    return lemma_output\n",
    "\n",
    "def process_with_lemm(input_text):\n",
    "    output_text = clean_text(input_text)\n",
    "    output_text = lemm_text(output_text)\n",
    "    return output_text"
   ]
  },
  {
   "cell_type": "markdown",
   "metadata": {},
   "source": [
    "## Task 3: Randomly Combine Review Texts From Positive & Negative Reviews Data Sets. \n",
    "\n",
    "Preprocessed texts to remove punctuation, remove stop words and lemmatized the text.\n",
    "\n",
    "Combine all these texts into a single dataset where each preprocessed review and its label are in a format that is good for analysis: \n",
    "\n",
    "Example 1:\n",
    "\n",
    "**A tuple format**\n",
    "\n",
    "`data=[('preprocessed review text', label), ('preprocessed review text', label) ...]`\n",
    "\n",
    "* ('this movie is nice', 1)\n",
    "* ('this movie is lousy',0)\n",
    "\n",
    "Example 2:\n",
    "\n",
    "**A pandas dataframe format**\n",
    "```\n",
    "0\tone reviewer mentioned watching oz episode you...\t1\n",
    "1\twonderful little production br br filming tech...\t1\n",
    "2\tthought wonderful way spend time hot summer we...\t1\n",
    "3\tbasically there family little boy jake think t...\t0\n",
    "4\tpetter matteis love time money visually stunni...\t1\n",
    "```\n",
    "\n",
    "Label for positive and negative review:\n",
    "* `Positive review is given 1.`\n",
    "* `Negative review is given 0.`\n"
   ]
  },
  {
   "cell_type": "markdown",
   "metadata": {},
   "source": [
    "The following incomplete code is given as a guide as an example to load texts and labels into lists.\n",
    "\n",
    "You can prepare your own code to load it in any format that you wish."
   ]
  },
  {
   "cell_type": "code",
   "execution_count": 9,
   "metadata": {},
   "outputs": [
    {
     "data": {
      "text/html": [
       "<div>\n",
       "<style scoped>\n",
       "    .dataframe tbody tr th:only-of-type {\n",
       "        vertical-align: middle;\n",
       "    }\n",
       "\n",
       "    .dataframe tbody tr th {\n",
       "        vertical-align: top;\n",
       "    }\n",
       "\n",
       "    .dataframe thead th {\n",
       "        text-align: right;\n",
       "    }\n",
       "</style>\n",
       "<table border=\"1\" class=\"dataframe\">\n",
       "  <thead>\n",
       "    <tr style=\"text-align: right;\">\n",
       "      <th></th>\n",
       "      <th>review</th>\n",
       "      <th>sentiment</th>\n",
       "      <th>tokenized_text</th>\n",
       "      <th>text_length</th>\n",
       "    </tr>\n",
       "  </thead>\n",
       "  <tbody>\n",
       "    <tr>\n",
       "      <th>0</th>\n",
       "      <td>focus reset home guide interactive map store r...</td>\n",
       "      <td>1</td>\n",
       "      <td>[Focus, Reset, Home, Guides, Interactive, Maps...</td>\n",
       "      <td>2886</td>\n",
       "    </tr>\n",
       "    <tr>\n",
       "      <th>1</th>\n",
       "      <td>tv boy se “ self preservation society ” “ foun...</td>\n",
       "      <td>1</td>\n",
       "      <td>[TV, THE, BOYS, (, S1E7+8, ), “, The, Self, Pr...</td>\n",
       "      <td>2626</td>\n",
       "    </tr>\n",
       "    <tr>\n",
       "      <th>2</th>\n",
       "      <td>skip main content flag u trending best tv show...</td>\n",
       "      <td>1</td>\n",
       "      <td>[Skip, to, main, content, flag, of, US, TRENDI...</td>\n",
       "      <td>2456</td>\n",
       "    </tr>\n",
       "    <tr>\n",
       "      <th>3</th>\n",
       "      <td>skip content search mama geeky boy season prem...</td>\n",
       "      <td>1</td>\n",
       "      <td>[Skip, to, Content, Search, Mama, 's, Geeky, T...</td>\n",
       "      <td>1532</td>\n",
       "    </tr>\n",
       "    <tr>\n",
       "      <th>4</th>\n",
       "      <td>skip content lyles movie file boy proper prepa...</td>\n",
       "      <td>1</td>\n",
       "      <td>[Skip, to, content, Lyles, Movie, Files, the, ...</td>\n",
       "      <td>1171</td>\n",
       "    </tr>\n",
       "  </tbody>\n",
       "</table>\n",
       "</div>"
      ],
      "text/plain": [
       "                                              review sentiment  \\\n",
       "0  focus reset home guide interactive map store r...         1   \n",
       "1  tv boy se “ self preservation society ” “ foun...         1   \n",
       "2  skip main content flag u trending best tv show...         1   \n",
       "3  skip content search mama geeky boy season prem...         1   \n",
       "4  skip content lyles movie file boy proper prepa...         1   \n",
       "\n",
       "                                      tokenized_text  text_length  \n",
       "0  [Focus, Reset, Home, Guides, Interactive, Maps...         2886  \n",
       "1  [TV, THE, BOYS, (, S1E7+8, ), “, The, Self, Pr...         2626  \n",
       "2  [Skip, to, main, content, flag, of, US, TRENDI...         2456  \n",
       "3  [Skip, to, Content, Search, Mama, 's, Geeky, T...         1532  \n",
       "4  [Skip, to, content, Lyles, Movie, Files, the, ...         1171  "
      ]
     },
     "execution_count": 9,
     "metadata": {},
     "output_type": "execute_result"
    }
   ],
   "source": [
    "df_cleaned = df.copy()\n",
    "df_cleaned['review'] = df_cleaned['review'].apply(process_with_lemm)\n",
    "df_cleaned.head()"
   ]
  },
  {
   "cell_type": "markdown",
   "metadata": {},
   "source": [
    "# Part 2: Perform AI Natural Language Inference\n",
    "\n",
    "## Task 2.2.4: Feature Extraction Using TF-IDF\n",
    "\n",
    "Perform normalization of bag of words using the TfidfTransformer. Use it the same way as above. \n",
    "\n",
    "Create a class, and use the .fit_transform() method with the bag of words as your argument to create your TFIDF.\n"
   ]
  },
  {
   "cell_type": "code",
   "execution_count": 10,
   "metadata": {},
   "outputs": [],
   "source": [
    "tfidf_vectorizer = TfidfVectorizer(max_features=5000) # We set max features here, because it is simply going to get too large\n",
    "X_temp = tfidf_vectorizer.fit_transform(df_cleaned['review'])\n",
    "X_temp = X_temp.toarray()\n",
    "y_temp = pd.get_dummies(df_cleaned['sentiment'])"
   ]
  },
  {
   "cell_type": "code",
   "execution_count": 11,
   "metadata": {},
   "outputs": [
    {
     "data": {
      "text/plain": [
       "array([[0.        , 0.        , 0.0099561 , ..., 0.        , 0.        ,\n",
       "        0.        ],\n",
       "       [0.        , 0.        , 0.        , ..., 0.        , 0.        ,\n",
       "        0.        ],\n",
       "       [0.        , 0.        , 0.01612448, ..., 0.        , 0.        ,\n",
       "        0.        ],\n",
       "       ...,\n",
       "       [0.        , 0.        , 0.06542339, ..., 0.        , 0.        ,\n",
       "        0.        ],\n",
       "       [0.        , 0.        , 0.        , ..., 0.        , 0.        ,\n",
       "        0.        ],\n",
       "       [0.        , 0.        , 0.        , ..., 0.        , 0.        ,\n",
       "        0.        ]])"
      ]
     },
     "execution_count": 11,
     "metadata": {},
     "output_type": "execute_result"
    }
   ],
   "source": [
    "X_temp\n"
   ]
  },
  {
   "cell_type": "code",
   "execution_count": 12,
   "metadata": {},
   "outputs": [
    {
     "data": {
      "text/html": [
       "<div>\n",
       "<style scoped>\n",
       "    .dataframe tbody tr th:only-of-type {\n",
       "        vertical-align: middle;\n",
       "    }\n",
       "\n",
       "    .dataframe tbody tr th {\n",
       "        vertical-align: top;\n",
       "    }\n",
       "\n",
       "    .dataframe thead th {\n",
       "        text-align: right;\n",
       "    }\n",
       "</style>\n",
       "<table border=\"1\" class=\"dataframe\">\n",
       "  <thead>\n",
       "    <tr style=\"text-align: right;\">\n",
       "      <th></th>\n",
       "      <th>0</th>\n",
       "      <th>1</th>\n",
       "    </tr>\n",
       "  </thead>\n",
       "  <tbody>\n",
       "    <tr>\n",
       "      <th>0</th>\n",
       "      <td>False</td>\n",
       "      <td>True</td>\n",
       "    </tr>\n",
       "    <tr>\n",
       "      <th>1</th>\n",
       "      <td>False</td>\n",
       "      <td>True</td>\n",
       "    </tr>\n",
       "    <tr>\n",
       "      <th>2</th>\n",
       "      <td>False</td>\n",
       "      <td>True</td>\n",
       "    </tr>\n",
       "    <tr>\n",
       "      <th>3</th>\n",
       "      <td>False</td>\n",
       "      <td>True</td>\n",
       "    </tr>\n",
       "    <tr>\n",
       "      <th>4</th>\n",
       "      <td>False</td>\n",
       "      <td>True</td>\n",
       "    </tr>\n",
       "  </tbody>\n",
       "</table>\n",
       "</div>"
      ],
      "text/plain": [
       "       0     1\n",
       "0  False  True\n",
       "1  False  True\n",
       "2  False  True\n",
       "3  False  True\n",
       "4  False  True"
      ]
     },
     "execution_count": 12,
     "metadata": {},
     "output_type": "execute_result"
    }
   ],
   "source": [
    "y_temp.head()\n"
   ]
  },
  {
   "cell_type": "code",
   "execution_count": 13,
   "metadata": {},
   "outputs": [
    {
     "data": {
      "text/html": [
       "<div>\n",
       "<style scoped>\n",
       "    .dataframe tbody tr th:only-of-type {\n",
       "        vertical-align: middle;\n",
       "    }\n",
       "\n",
       "    .dataframe tbody tr th {\n",
       "        vertical-align: top;\n",
       "    }\n",
       "\n",
       "    .dataframe thead th {\n",
       "        text-align: right;\n",
       "    }\n",
       "</style>\n",
       "<table border=\"1\" class=\"dataframe\">\n",
       "  <thead>\n",
       "    <tr style=\"text-align: right;\">\n",
       "      <th></th>\n",
       "      <th>0</th>\n",
       "      <th>1</th>\n",
       "    </tr>\n",
       "  </thead>\n",
       "  <tbody>\n",
       "    <tr>\n",
       "      <th>0</th>\n",
       "      <td>False</td>\n",
       "      <td>True</td>\n",
       "    </tr>\n",
       "    <tr>\n",
       "      <th>1</th>\n",
       "      <td>False</td>\n",
       "      <td>True</td>\n",
       "    </tr>\n",
       "    <tr>\n",
       "      <th>2</th>\n",
       "      <td>False</td>\n",
       "      <td>True</td>\n",
       "    </tr>\n",
       "    <tr>\n",
       "      <th>3</th>\n",
       "      <td>False</td>\n",
       "      <td>True</td>\n",
       "    </tr>\n",
       "    <tr>\n",
       "      <th>4</th>\n",
       "      <td>False</td>\n",
       "      <td>True</td>\n",
       "    </tr>\n",
       "  </tbody>\n",
       "</table>\n",
       "</div>"
      ],
      "text/plain": [
       "       0     1\n",
       "0  False  True\n",
       "1  False  True\n",
       "2  False  True\n",
       "3  False  True\n",
       "4  False  True"
      ]
     },
     "execution_count": 13,
     "metadata": {},
     "output_type": "execute_result"
    }
   ],
   "source": [
    "y_temp.head()"
   ]
  },
  {
   "cell_type": "code",
   "execution_count": 14,
   "metadata": {},
   "outputs": [
    {
     "name": "stdout",
     "output_type": "stream",
     "text": [
      "[[False  True]\n",
      " [False  True]\n",
      " [False  True]\n",
      " ...\n",
      " [ True False]\n",
      " [ True False]\n",
      " [ True False]]\n",
      "(2060, 2)\n"
     ]
    }
   ],
   "source": [
    "y = y_temp.values\n",
    "print(y)\n",
    "print(y.shape)"
   ]
  },
  {
   "cell_type": "markdown",
   "metadata": {},
   "source": [
    "### Task 2.2.3: Split Dataset Into Train Test Sets.\n",
    "\n",
    "Split the texts into:\n",
    "\n",
    "1. 80% for training.\n",
    "2. 20% for testing.\n",
    "\n",
    "The following incomplete code is given as a guide as an example to split the text data from a list.\n",
    "\n",
    "You can prepare your own code to split it in any format that you wish."
   ]
  },
  {
   "cell_type": "code",
   "execution_count": 15,
   "metadata": {},
   "outputs": [],
   "source": [
    "X_train, X_test, y_train, y_test = train_test_split(X_temp, y, test_size=0.2, random_state=42)"
   ]
  },
  {
   "cell_type": "markdown",
   "metadata": {},
   "source": [
    "## Task 5: Create Model Using Neural Networks\n",
    "\n",
    "Create a suitable neural network and train it. \n"
   ]
  },
  {
   "cell_type": "code",
   "execution_count": 16,
   "metadata": {},
   "outputs": [
    {
     "name": "stdout",
     "output_type": "stream",
     "text": [
      "Model: \"sequential\"\n",
      "_________________________________________________________________\n",
      " Layer (type)                Output Shape              Param #   \n",
      "=================================================================\n",
      " dense (Dense)               (None, 64)                320064    \n",
      "                                                                 \n",
      " dense_1 (Dense)             (None, 2)                 130       \n",
      "                                                                 \n",
      "=================================================================\n",
      "Total params: 320,194\n",
      "Trainable params: 320,194\n",
      "Non-trainable params: 0\n",
      "_________________________________________________________________\n"
     ]
    }
   ],
   "source": [
    "model = Sequential()\n",
    "model.add(Dense(64, input_dim=X_temp.shape[1], activation='relu'))\n",
    "model.add(Dense(y.shape[1], activation='softmax'))\n",
    "\n",
    "model.summary()"
   ]
  },
  {
   "cell_type": "code",
   "execution_count": 17,
   "metadata": {},
   "outputs": [],
   "source": [
    "model.compile(optimizer='adam', loss='categorical_crossentropy', metrics=['accuracy'])"
   ]
  },
  {
   "cell_type": "code",
   "execution_count": 18,
   "metadata": {},
   "outputs": [
    {
     "name": "stdout",
     "output_type": "stream",
     "text": [
      "Epoch 1/10\n"
     ]
    },
    {
     "name": "stdout",
     "output_type": "stream",
     "text": [
      "52/52 [==============================] - 1s 14ms/step - loss: 0.6534 - accuracy: 0.7045 - val_loss: 0.5773 - val_accuracy: 0.8495\n",
      "Epoch 2/10\n",
      "52/52 [==============================] - 1s 11ms/step - loss: 0.4382 - accuracy: 0.9181 - val_loss: 0.4221 - val_accuracy: 0.8641\n",
      "Epoch 3/10\n",
      "52/52 [==============================] - 0s 5ms/step - loss: 0.2418 - accuracy: 0.9654 - val_loss: 0.3547 - val_accuracy: 0.8665\n",
      "Epoch 4/10\n",
      "52/52 [==============================] - 0s 6ms/step - loss: 0.1370 - accuracy: 0.9867 - val_loss: 0.3387 - val_accuracy: 0.8641\n",
      "Epoch 5/10\n",
      "52/52 [==============================] - 0s 7ms/step - loss: 0.0794 - accuracy: 0.9976 - val_loss: 0.3366 - val_accuracy: 0.8544\n",
      "Epoch 6/10\n",
      "52/52 [==============================] - 0s 6ms/step - loss: 0.0500 - accuracy: 1.0000 - val_loss: 0.3312 - val_accuracy: 0.8471\n",
      "Epoch 7/10\n",
      "52/52 [==============================] - 0s 8ms/step - loss: 0.0336 - accuracy: 1.0000 - val_loss: 0.3370 - val_accuracy: 0.8471\n",
      "Epoch 8/10\n",
      "52/52 [==============================] - 0s 5ms/step - loss: 0.0233 - accuracy: 1.0000 - val_loss: 0.3418 - val_accuracy: 0.8519\n",
      "Epoch 9/10\n",
      "52/52 [==============================] - 0s 6ms/step - loss: 0.0171 - accuracy: 1.0000 - val_loss: 0.3547 - val_accuracy: 0.8471\n",
      "Epoch 10/10\n",
      "52/52 [==============================] - 0s 5ms/step - loss: 0.0131 - accuracy: 1.0000 - val_loss: 0.3593 - val_accuracy: 0.8495\n"
     ]
    }
   ],
   "source": [
    "num_epochs = 10\n",
    "history = model.fit(X_train, y_train, epochs=num_epochs, \n",
    "                    validation_data=(X_test, y_test))"
   ]
  },
  {
   "cell_type": "code",
   "execution_count": 19,
   "metadata": {},
   "outputs": [
    {
     "data": {
      "image/png": "[encoded data removed]",
      "text/plain": [
       "<Figure size 640x480 with 1 Axes>"
      ]
     },
     "metadata": {},
     "output_type": "display_data"
    }
   ],
   "source": [
    "def plot_graphs(H, metric):\n",
    "  plt.style.use(\"ggplot\")\n",
    "  plt.figure()\n",
    "  plt.plot(np.arange(0, num_epochs), H.history[\"loss\"], label=\"train_loss\")\n",
    "  plt.plot(np.arange(0, num_epochs), H.history[\"val_loss\"], label=\"val_loss\")\n",
    "  plt.plot(np.arange(0, num_epochs), H.history[\"accuracy\"], label=\"train_accuracy\")\n",
    "  plt.plot(np.arange(0, num_epochs), H.history[\"val_accuracy\"], label=\"val_accuracy\")\n",
    "  plt.title(\"Training Loss and Accuracy\")\n",
    "  plt.xlabel(\"Epoch #\" )\n",
    "  plt.ylabel(\"Loss/Accuracy\" )\n",
    "  plt.legend()\n",
    "  plt.savefig(\"model history\")\n",
    "  plt.show()\n",
    "plot_graphs(history,'accuracy')"
   ]
  },
  {
   "cell_type": "code",
   "execution_count": 20,
   "metadata": {},
   "outputs": [
    {
     "name": "stdout",
     "output_type": "stream",
     "text": [
      "13/13 [==============================] - 0s 8ms/step\n",
      "\n",
      "Confusion matrix:\n",
      "[[175  24]\n",
      " [ 38 175]]\n",
      "              precision    recall  f1-score   support\n",
      "\n",
      "           0       0.82      0.88      0.85       199\n",
      "           1       0.88      0.82      0.85       213\n",
      "\n",
      "    accuracy                           0.85       412\n",
      "   macro avg       0.85      0.85      0.85       412\n",
      "weighted avg       0.85      0.85      0.85       412\n",
      "\n"
     ]
    }
   ],
   "source": [
    "from sklearn.metrics import confusion_matrix\n",
    "from sklearn.metrics import classification_report\n",
    " \n",
    "predicted = model.predict(X_test)\n",
    "predicted_label=[np.argmax(each) for each in np.array(predicted)]\n",
    "y_test_label=[np.argmax(each) for each in np.array(y_test)]\n",
    "print(\"\\nConfusion matrix:\")\n",
    "print(confusion_matrix(y_test_label, predicted_label))\n",
    "print(classification_report(y_test_label, predicted_label))"
   ]
  },
  {
   "cell_type": "markdown",
   "metadata": {},
   "source": [
    "## Task 6: Test For Unseen Text\n",
    "\n",
    "Use the trained model to make predictions on totally unseen text. "
   ]
  },
  {
   "cell_type": "code",
   "execution_count": 21,
   "metadata": {},
   "outputs": [],
   "source": [
    "\n",
    "\n",
    "# Function to encode a new sentence\n",
    "def encode_sentence(input_text):\n",
    "    encoded_text = tfidf_vectorizer.transform([input_text])\n",
    "    encoded_text = encoded_text.toarray()\n",
    "    return encoded_text\n",
    "\n",
    "def prediction(encoded_text):\n",
    "    predictions = model.predict(encoded_text)\n",
    "    predicted_class = np.argmax(predictions)\n",
    "    print(\"The predicted probability is:\", predictions)\n",
    "    print(\"The predicted class is:\", predicted_class)\n",
    "\n",
    "    if predicted_class == 0:\n",
    "        print(\"The provided text is classified as: Negative\")\n",
    "    else:\n",
    "        print(\"The provided text is classified as: Postive\")\n",
    "\n",
    "\n",
    "# New sentences to predict\n",
    "neg_text = \"Just when you think you’ve seen the worst movie ever made, along comes this pile of toxic waste.\"\n",
    "pos_text = \"This is going to go down as one of 2022’s most entertaining motion pictures.\"\n",
    "\n",
    "\n"
   ]
  },
  {
   "cell_type": "markdown",
   "metadata": {},
   "source": [
    "## Task 7: Apply Cosine Similarity To Find Similar Texts\n",
    "\n",
    "Based on the given unseen positive and negative text previously, find the top most similar sentences from the training dataset. \n",
    "\n",
    "Reminder: Please note that you have to use the same fitted \"tfidf\" model to perform feature extraction of your texts. "
   ]
  },
  {
   "cell_type": "code",
   "execution_count": 22,
   "metadata": {},
   "outputs": [
    {
     "name": "stdout",
     "output_type": "stream",
     "text": [
      "1/1 [==============================] - 0s 27ms/step\n",
      "The predicted probability is: [[0.99520504 0.00479504]]\n",
      "The predicted class is: 0\n",
      "The provided text is classified as: Negative\n",
      "1/1 [==============================] - 0s 40ms/step\n",
      "The predicted probability is: [[0.21967201 0.7803279 ]]\n",
      "The predicted class is: 1\n",
      "The provided text is classified as: Postive\n"
     ]
    }
   ],
   "source": [
    "# Define the new sentences\n",
    "neg_text = \"Just when you think you’ve seen the worst movie ever made, along comes this pile of toxic waste.\"\n",
    "pos_text = \"This is going to go down as one of 2022’s most entertaining motion pictures.\"\n",
    "\n",
    "# Encode and predict the sentiment of negative text\n",
    "encoded_neg_text = encode_sentence(neg_text)\n",
    "prediction(encoded_neg_text)\n",
    "\n",
    "# Encode and predict the sentiment of positive text\n",
    "encoded_pos_text = encode_sentence(pos_text)\n",
    "prediction(encoded_pos_text)\n"
   ]
  },
  {
   "cell_type": "code",
   "execution_count": 23,
   "metadata": {},
   "outputs": [
    {
     "name": "stdout",
     "output_type": "stream",
     "text": [
      "0.06274211398105578\n"
     ]
    }
   ],
   "source": [
    "from sklearn.metrics.pairwise import cosine_similarity\n",
    "\n",
    "def get_cosine_similarity(text1, text2):\n",
    "    vectors = tfidf_vectorizer.fit_transform([text1, text2])\n",
    "    similarity = cosine_similarity(vectors[0], vectors[1])\n",
    "    return similarity[0][0]\n",
    "\n",
    "\n",
    "cosine = get_cosine_similarity(pos_text, neg_text)\n",
    "print(cosine)"
   ]
  }
 ],
 "metadata": {
  "kernelspec": {
   "display_name": "nlpe",
   "language": "python",
   "name": "python3"
  },
  "language_info": {
   "codemirror_mode": {
    "name": "ipython",
    "version": 3
   },
   "file_extension": ".py",
   "mimetype": "text/x-python",
   "name": "python",
   "nbconvert_exporter": "python",
   "pygments_lexer": "ipython3",
   "version": "3.9.18"
  }
 },
 "nbformat": 4,
 "nbformat_minor": 2
}
